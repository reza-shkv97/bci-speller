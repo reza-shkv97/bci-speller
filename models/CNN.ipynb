{
 "nbformat": 4,
 "nbformat_minor": 0,
 "metadata": {
  "colab": {
   "name": "P300CNN.ipynb",
   "provenance": []
  },
  "kernelspec": {
   "name": "python3",
   "display_name": "Python 3"
  },
  "language_info": {
   "name": "python"
  },
  "accelerator": "GPU"
 },
 "cells": [
  {
   "cell_type": "code",
   "source": [
    "import numpy as np\n",
    "import tensorflow as tf \n",
    "\n",
    "\n",
    "from keras.models import Sequential\n",
    "from keras.layers import LSTM, Dense, Dropout,Flatten, Conv2D\n",
    "from keras import regularizers\n",
    "import scipy.io\n",
    "from keras import optimizers\n",
    "from keras.utils import np_utils\n",
    "from scipy import signal\n",
    "import mat73\n",
    "from keras.callbacks import EarlyStopping\n",
    "from utils.metrics import performance_measure"
   ],
   "metadata": {
    "colab": {
     "base_uri": "https://localhost:8080/"
    },
    "id": "_quuAE3A0z6B",
    "outputId": "c7afa488-af14-486f-ee15-1ae672c34a71"
   },
   "execution_count": 1,
   "outputs": [
    {
     "output_type": "stream",
     "name": "stdout",
     "text": [
      "Requirement already satisfied: mat73 in /usr/local/lib/python3.7/dist-packages (0.59)\n",
      "Requirement already satisfied: numpy in /usr/local/lib/python3.7/dist-packages (from mat73) (1.21.6)\n",
      "Requirement already satisfied: h5py in /usr/local/lib/python3.7/dist-packages (from mat73) (3.1.0)\n",
      "Requirement already satisfied: cached-property in /usr/local/lib/python3.7/dist-packages (from h5py->mat73) (1.5.2)\n"
     ]
    }
   ]
  },
  {
   "cell_type": "code",
   "source": [
    "resample_rate = 100\n",
    "\n",
    "mat1 = scipy.io.loadmat('../Data/Train_A.mat')\n",
    "\n",
    "X_train = np.array(mat1['Epoch_train_A']) \n",
    "X_train = signal.resample(X_train, resample_rate, t=None, axis=1)\n",
    "y_train = np.array(mat1['Y_train_A']) \n",
    "del mat1"
   ],
   "metadata": {
    "id": "e4YjkEOitoQ_"
   },
   "execution_count": 2,
   "outputs": []
  },
  {
   "cell_type": "code",
   "source": [
    "test_dataset = mat73.loadmat('../Data/Test_A.mat')\n",
    "X_test = np.array(test_dataset['Epoch_test_A']) \n",
    "X_test = signal.resample(X_test, resample_rate, t=None, axis=1)\n",
    "X_test = np.transpose(X_test , [0 , 2 , 1])\n",
    "X_test = scipy.stats.zscore(X_test, axis=1)\n",
    "event = np.array(test_dataset['event'])\n",
    "test_str_A = test_dataset['test_str_A']\n",
    "del test_dataset"
   ],
   "metadata": {
    "id": "7ctYM3eHCeqn"
   },
   "execution_count": null,
   "outputs": []
  },
  {
   "cell_type": "code",
   "source": [
    "n_samples = X_train.shape[0]\n",
    "length = X_train.shape[1]\n",
    "n_channels = X_train.shape[2]\n",
    "\n",
    "X_train = np.transpose(X_train , [0 , 2 , 1])\n",
    "X_train = np.reshape(X_train , [n_samples , n_channels , length , 1])\n",
    "X_train = scipy.stats.zscore(X_train, axis=1)\n",
    "y_train = np_utils.to_categorical(y_train, 2)"
   ],
   "metadata": {
    "id": "o5iBzQ9YvXhe"
   },
   "execution_count": null,
   "outputs": []
  },
  {
   "cell_type": "code",
   "source": [
    "model = Sequential()\n",
    "model.add (Conv2D(16 , (1, n_channels) , strides=1 ,  padding='same' , activation = 'relu' , input_shape=(n_channels , length , 1), \n",
    "                  kernel_regularizer=regularizers.L2(0.005)))\n",
    "\n",
    "model.add (Conv2D(16 , (int(length/5), 1) , strides=int(length/5) ,  padding='same' , activation = 'relu' ,\n",
    "                  kernel_regularizer=regularizers.L2(0.005)))\n",
    "model.add (Flatten())\n",
    "model.add(Dense(100, activation ='relu', kernel_regularizer=regularizers.L2(0.005)))\n",
    "model.add( Dropout(0.25))\n",
    "model.add(Dense(16, activation ='relu', kernel_regularizer=regularizers.L2(0.005)))  # W_regularizer= regularizers.l2(0.01)\n",
    "model.add( Dropout(0.25))\n",
    "model.add(Dense(2 , activation = 'softmax'))\n",
    "\n",
    "model.compile(loss='binary_crossentropy', optimizer='adam' , metrics=['accuracy'])\n",
    "\n",
    "class_weights={0:1.,1:5.}\n",
    "early_stopping_monitor = EarlyStopping(patience=8, restore_best_weights=True)\n",
    "history = model.fit(X_train, y_train , batch_size=128 , epochs = 20 , callbacks= [early_stopping_monitor] , validation_split =0.2 , shuffle=True, class_weight=class_weights)"
   ],
   "metadata": {
    "id": "Cj5awbKUtnLB"
   },
   "execution_count": null,
   "outputs": []
  },
  {
   "cell_type": "code",
   "source": [
    "prediction = model.predict(X_test, batch_size = 128)\n",
    "accuracy, precision, recall, f1, support = performance_measure(prediction, test_str_A, event)\n",
    "print('acc_test: {}, precision: {}, recall: {}, f1:{}'.format(accuracy, precision, recall, f1))"
   ],
   "metadata": {
    "colab": {
     "base_uri": "https://localhost:8080/"
    },
    "id": "L2WENtTey6fi",
    "outputId": "02737446-9c51-4142-dbe7-0158b04e85ba"
   },
   "execution_count": 12,
   "outputs": [
    {
     "output_type": "stream",
     "name": "stdout",
     "text": [
      "acc_test: 0.95, precision: 0.8833333333333333, recall: 0.8878787878787879, f1:0.8795794681508967\n"
     ]
    },
    {
     "output_type": "stream",
     "name": "stderr",
     "text": [
      "/usr/local/lib/python3.7/dist-packages/sklearn/metrics/_classification.py:1318: UndefinedMetricWarning: Precision and F-score are ill-defined and being set to 0.0 in labels with no predicted samples. Use `zero_division` parameter to control this behavior.\n",
      "  _warn_prf(average, modifier, msg_start, len(result))\n",
      "/usr/local/lib/python3.7/dist-packages/sklearn/metrics/_classification.py:1318: UndefinedMetricWarning: Recall and F-score are ill-defined and being set to 0.0 in labels with no true samples. Use `zero_division` parameter to control this behavior.\n",
      "  _warn_prf(average, modifier, msg_start, len(result))\n"
     ]
    }
   ]
  },
  {
   "cell_type": "code",
   "source": [
    ""
   ],
   "metadata": {
    "id": "Tx817g4v4bky"
   },
   "execution_count": null,
   "outputs": []
  }
 ]
}